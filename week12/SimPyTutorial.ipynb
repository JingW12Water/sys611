{
 "cells": [
  {
   "cell_type": "markdown",
   "id": "73086a99",
   "metadata": {},
   "source": [
    "# SYS 611: SimPy Tutorial\n",
    "\n",
    "Paul T. Grogan <pgrogan@stevens.edu>\n",
    "\n",
    "This example introduces SimPy based on the [SimPy in 10 Minutes](https://simpy.readthedocs.io/en/latest/simpy_intro/index.html) tutorial.\n",
    "\n",
    "## Dependencies\n",
    "\n",
    "This example is compatible with Python 2 environments through use of the `__future__` library function. Additionally, this example uses the `matplotlib.pyplot` and `simpy` libraries. SimPy is not a standard library included in most Python distributions. The `!pip install simpy` command below attempts to install it using the pip package management system."
   ]
  },
  {
   "cell_type": "code",
   "execution_count": 1,
   "id": "7ca704b8",
   "metadata": {},
   "outputs": [
    {
     "name": "stdout",
     "output_type": "stream",
     "text": [
      "Requirement already satisfied: simpy in c:\\users\\pgrogan\\anaconda3\\lib\\site-packages (4.0.1)\n"
     ]
    }
   ],
   "source": [
    "# import the python3 behavior for importing, division, and printing in python2\n",
    "from __future__ import absolute_import, division, print_function\n",
    "\n",
    "# import the matplotlib.pyplot package and refer to it as `plt`\n",
    "import matplotlib.pyplot as plt\n",
    "\n",
    "# try to install the simpy package\n",
    "! pip install simpy\n",
    "\n",
    "# import the simpy package \n",
    "import simpy"
   ]
  },
  {
   "cell_type": "markdown",
   "id": "4cf5120b",
   "metadata": {},
   "source": [
    "## Step 1: Simulator with One Process\n",
    "\n",
    "SimPy uses a Python feature called a *generator* to define simulation processes. The example below defines a process `car_run` that models a car that alternates between spending 5.0 hours in the driving state  (1) and 2.0 hours in a parked state (0). The `yield` keyword with the environment's `timeout` method allows a simulator to evaluate other processes while waiting.\n",
    "\n",
    "To set up a simulation, a SimPy `Environment` object must first be created. Two arrays (`t` and `q`) will store state trajectories for time and vehicle state (0: parked, 1: driving). An instance of the `car_run` process can be added to the environment using the `process` method. Finally, the simulation environment can execute using the `run` function until a threshold time."
   ]
  },
  {
   "cell_type": "code",
   "execution_count": 2,
   "id": "2e34d60d",
   "metadata": {},
   "outputs": [
    {
     "data": {
      "image/png": "[encoded data removed]",
      "text/plain": [
       "<Figure size 432x288 with 1 Axes>"
      ]
     },
     "metadata": {
      "needs_background": "light"
     },
     "output_type": "display_data"
    }
   ],
   "source": [
    "def car_run(env, t, q):\n",
    "    # enter an infinite loop\n",
    "    while True:\n",
    "        # enter driving state\n",
    "        t.append(env.now)\n",
    "        q.append(1)\n",
    "        \n",
    "        # wait for 5.0 hours\n",
    "        yield env.timeout(5.0)\n",
    "        \n",
    "        # enter parked state\n",
    "        t.append(env.now)\n",
    "        q.append(0)\n",
    "        \n",
    "        # wait for 2.0 hours\n",
    "        yield env.timeout(2.0)\n",
    "\n",
    "# create the simulation environment\n",
    "env = simpy.Environment()\n",
    "\n",
    "# create arrays to store state trajectories\n",
    "t = []\n",
    "q = []\n",
    "\n",
    "# add a new car process to the environment\n",
    "env.process(car_run(env, t, q))\n",
    "\n",
    "# run the simulation for 15.0 hours\n",
    "env.run(until=15.0)\n",
    "\n",
    "# plot the results\n",
    "plt.figure()\n",
    "plt.step(t, q, 'o-', where='post')\n",
    "plt.xlabel('Time')\n",
    "plt.ylabel('State')\n",
    "plt.yticks([0,1], ['Parked', 'Driving'])\n",
    "plt.show()"
   ]
  },
  {
   "cell_type": "markdown",
   "id": "ab82299e",
   "metadata": {},
   "source": [
    "## Step 2: Simulator with Multiple Independent Processes\n",
    "\n",
    "Scaling up a simulation to consider multiple parallel processes is easy. This example refactors the `car_run` process to accept some additional arguments to customize its behavior for different cars. Then, two processes (representing two cars) are added to the SimPy environment before running the simulation. Results record state trajectories for each vehicle for plotting."
   ]
  },
  {
   "cell_type": "code",
   "execution_count": 3,
   "id": "e767e2c4",
   "metadata": {},
   "outputs": [
    {
     "data": {
      "image/png": "[encoded data removed]",
      "text/plain": [
       "<Figure size 432x288 with 1 Axes>"
      ]
     },
     "metadata": {
      "needs_background": "light"
     },
     "output_type": "display_data"
    }
   ],
   "source": [
    "def car_run(env, t, q, t_drive, t_park):  \n",
    "    # enter an infinite loop\n",
    "    while True:\n",
    "        # enter driving state\n",
    "        t.append(env.now)\n",
    "        q.append(1)\n",
    "        \n",
    "        # wait for t_drive\n",
    "        yield env.timeout(t_drive)\n",
    "        \n",
    "        # enter parked state\n",
    "        t.append(env.now)\n",
    "        q.append(0)\n",
    "        \n",
    "        # wait for t_park\n",
    "        yield env.timeout(t_park)\n",
    "\n",
    "# create the simulation environment\n",
    "env = simpy.Environment()\n",
    "\n",
    "# create arrays to store state trajectories for two cars\n",
    "t1 = []\n",
    "q1 = []\n",
    "t2 = []\n",
    "q2 = []\n",
    "\n",
    "# add two new car process to the environment\n",
    "env.process(car_run(env, t1, q1, 5.0, 2.0))\n",
    "env.process(car_run(env, t2, q2, 3.0, 3.0))\n",
    "\n",
    "# run the simulation for 15.0 hours\n",
    "env.run(until=15.0)\n",
    "\n",
    "# plot the results\n",
    "plt.figure()\n",
    "plt.step(t1, q1, 'o-', where='post', label='A')\n",
    "plt.step(t2, q2, 'o-', where='post', label='B')\n",
    "plt.xlabel('Time')\n",
    "plt.ylabel('State')\n",
    "plt.yticks([0,1], ['Parked', 'Driving'])\n",
    "plt.legend()\n",
    "plt.show()"
   ]
  },
  {
   "cell_type": "markdown",
   "id": "65c29eb6",
   "metadata": {},
   "source": [
    "## Step 3: Simulator with Multiple Independent Nested Processes\n",
    "\n",
    "Processes do not need to be defined in a single generator expression. Sometimes it may be helpful to break up into smaller components. This example decomposes the `car_run` process into two sub-processes: `car_drive` and `car_park` which may make the simulation easier to understand from a human perspective---it does not change numerical results."
   ]
  },
  {
   "cell_type": "code",
   "execution_count": 4,
   "id": "388684a4",
   "metadata": {},
   "outputs": [
    {
     "data": {
      "image/png": "[encoded data removed]",
      "text/plain": [
       "<Figure size 432x288 with 1 Axes>"
      ]
     },
     "metadata": {
      "needs_background": "light"
     },
     "output_type": "display_data"
    }
   ],
   "source": [
    "def car_run(env, t, q, t_drive, t_park):    \n",
    "    while True:\n",
    "        # wait for a driving process to complete\n",
    "        yield env.process(car_drive(env, t, q, t_drive))\n",
    "        # wait for a parking process to complete\n",
    "        yield env.process(car_park(env, t, q, t_park))\n",
    "\n",
    "def car_drive(env, t, q, t_drive):\n",
    "    # enter driving state\n",
    "    t.append(env.now)\n",
    "    q.append(1)\n",
    "    # wait for t_drive\n",
    "    yield env.timeout(t_drive)\n",
    "\n",
    "def car_park(env, t, q, t_park):\n",
    "    # enter parked state\n",
    "    t.append(env.now)\n",
    "    q.append(0)\n",
    "    # wait for t_park\n",
    "    yield env.timeout(t_park)\n",
    "\n",
    "# create the simulation environment\n",
    "env = simpy.Environment()\n",
    "\n",
    "# create arrays to store state trajectories\n",
    "t1 = []\n",
    "q1 = []\n",
    "t2 = []\n",
    "q2 = []\n",
    "\n",
    "# add a new car process to the environment\n",
    "env.process(car_run(env, t1, q1, 5.0, 2.0))\n",
    "env.process(car_run(env, t2, q2, 3.0, 3.0))\n",
    "\n",
    "# run the simulation for 15.0 hours\n",
    "env.run(until=15.0)\n",
    "\n",
    "# plot the results\n",
    "plt.figure()\n",
    "plt.step(t1, q1, 'o-', where='post', label='A')\n",
    "plt.step(t2, q2, 'o-', where='post', label='B')\n",
    "plt.xlabel('Time')\n",
    "plt.ylabel('State')\n",
    "plt.yticks([0,1], ['Parked', 'Driving'])\n",
    "plt.legend()\n",
    "plt.show()"
   ]
  },
  {
   "cell_type": "markdown",
   "id": "8f6f7479",
   "metadata": {},
   "source": [
    "## Step 4: Simulator with Multiple Interacting Processes\n",
    "\n",
    "The true power of process-oriented discrete event simulation arises when processes can interact with each other. This example models a parking lot with a single parking spot, such that only one car can be parked at a time."
   ]
  },
  {
   "cell_type": "code",
   "execution_count": 5,
   "id": "b26c48b6",
   "metadata": {},
   "outputs": [
    {
     "data": {
      "image/png": "[encoded data removed]",
      "text/plain": [
       "<Figure size 432x288 with 1 Axes>"
      ]
     },
     "metadata": {
      "needs_background": "light"
     },
     "output_type": "display_data"
    }
   ],
   "source": [
    "def car_run(env, lot, t, q, t_drive, t_park):    \n",
    "    while True:\n",
    "        # drive\n",
    "        yield env.process(car_drive(env, t, q, t_drive))\n",
    "        # request parking\n",
    "        with lot.request() as request:\n",
    "            # enter waiting state\n",
    "            t.append(env.now)\n",
    "            q.append(0.5)\n",
    "            # wait for the request\n",
    "            yield request\n",
    "            # park\n",
    "            yield env.process(car_park(env, t, q, t_park))\n",
    "\n",
    "def car_drive(env, t, q, t_drive):\n",
    "    # enter driving state\n",
    "    t.append(env.now)\n",
    "    q.append(1)\n",
    "    # wait for t_drive\n",
    "    yield env.timeout(t_drive)\n",
    "\n",
    "def car_park(env, t, q, t_park):\n",
    "    # enter parked state\n",
    "    t.append(env.now)\n",
    "    q.append(0)\n",
    "    # wait for t_park\n",
    "    yield env.timeout(t_park)\n",
    "\n",
    "# create the simulation environment\n",
    "env = simpy.Environment()\n",
    "\n",
    "# create a resource (parking lot) with one capacity\n",
    "lot = simpy.Resource(env, capacity=2)\n",
    "\n",
    "# create arrays to store state trajectories\n",
    "t1 = []\n",
    "q1 = []\n",
    "t2 = []\n",
    "q2 = []\n",
    "\n",
    "# add a new car process to the environment\n",
    "env.process(car_run(env, lot, t1, q1, 5.0, 2.0))\n",
    "env.process(car_run(env, lot, t2, q2, 3.0, 3.0))\n",
    "\n",
    "# run the simulation for 15.0 hours\n",
    "env.run(until=15.0)\n",
    "\n",
    "# plot the results\n",
    "plt.figure()\n",
    "plt.step(t1, q1, 'o-', where='post', label='A')\n",
    "plt.step(t2, q2, 'o-', where='post', label='B')\n",
    "plt.xlabel('Time')\n",
    "plt.ylabel('State')\n",
    "plt.yticks([0,0.5,1], ['Parked', 'Waiting', 'Driving'])\n",
    "plt.legend()\n",
    "plt.show()"
   ]
  },
  {
   "cell_type": "markdown",
   "id": "80d5de08",
   "metadata": {},
   "source": [
    "## Step 5: Simulator with Multiple Interacting Processes\n",
    "\n",
    "SimPy has many features to model processes. This last example models an electric charging station at the parking lot with a minimum charge time."
   ]
  },
  {
   "cell_type": "code",
   "execution_count": 6,
   "id": "b3827b7d",
   "metadata": {},
   "outputs": [
    {
     "data": {
      "image/png": "[encoded data removed]",
      "text/plain": [
       "<Figure size 432x288 with 1 Axes>"
      ]
     },
     "metadata": {
      "needs_background": "light"
     },
     "output_type": "display_data"
    }
   ],
   "source": [
    "def car_run(env, lot, t, q, t_drive, t_park, t_charge):    \n",
    "    while True:\n",
    "        # drive\n",
    "        yield env.process(car_drive(env, t, q, t_drive))\n",
    "        # request parking\n",
    "        with lot.request() as request:\n",
    "            # enter waiting state\n",
    "            t.append(env.now)\n",
    "            q.append(0.5)\n",
    "            # wait for the request\n",
    "            yield request\n",
    "            parking = env.process(car_park(env, t, q, t_park))\n",
    "            charging = env.process(car_charge(env, t_charge))\n",
    "            # wait for parking and charging \n",
    "            yield parking & charging\n",
    "\n",
    "def car_drive(env, t, q, t_drive):\n",
    "    # enter driving state\n",
    "    t.append(env.now)\n",
    "    q.append(1)\n",
    "    # wait for t_drive\n",
    "    yield env.timeout(t_drive)\n",
    "\n",
    "def car_park(env, t, q, t_park):\n",
    "    # enter parked state\n",
    "    t.append(env.now)\n",
    "    q.append(0)\n",
    "    # wait for t_park\n",
    "    yield env.timeout(t_park)\n",
    "\n",
    "def car_charge(env, t_charge):\n",
    "    # wait for t_charge\n",
    "    yield env.timeout(t_charge)\n",
    "\n",
    "# create the simulation environment\n",
    "env = simpy.Environment()\n",
    "\n",
    "# create a resource with one capacity\n",
    "lot = simpy.Resource(env, capacity=1)\n",
    "\n",
    "# create arrays to store state trajectories\n",
    "t1 = []\n",
    "q1 = []\n",
    "t2 = []\n",
    "q2 = []\n",
    "\n",
    "# add a new car process to the environment\n",
    "env.process(car_run(env, lot, t1, q1, 5.0, 2.0, 6.0))\n",
    "env.process(car_run(env, lot, t2, q2, 3.0, 3.0, 2.0))\n",
    "\n",
    "# run the simulation for 15.0 hours\n",
    "env.run(until=15.0)\n",
    "\n",
    "# plot the results\n",
    "plt.figure()\n",
    "plt.step(t1, q1, 'o-', where='post', label='A')\n",
    "plt.step(t2, q2, 'o-', where='post', label='B')\n",
    "plt.xlabel('Time')\n",
    "plt.ylabel('State')\n",
    "plt.yticks([0,0.5,1], ['Parked', 'Waiting', 'Driving'])\n",
    "plt.legend()\n",
    "plt.show()"
   ]
  }
 ],
 "metadata": {
  "kernelspec": {
   "display_name": "Python 3",
   "language": "python",
   "name": "python3"
  },
  "language_info": {
   "codemirror_mode": {
    "name": "ipython",
    "version": 3
   },
   "file_extension": ".py",
   "mimetype": "text/x-python",
   "name": "python",
   "nbconvert_exporter": "python",
   "pygments_lexer": "ipython3",
   "version": "3.8.3"
  }
 },
 "nbformat": 4,
 "nbformat_minor": 5
}
