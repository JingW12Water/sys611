{
 "cells": [
  {
   "cell_type": "markdown",
   "id": "da8bb6c5",
   "metadata": {},
   "source": [
    "# SYS 611: SimPy Inventory System (Object-oriented)\n",
    "\n",
    "Paul T. Grogan <pgrogan@stevens.edu>\n",
    "\n",
    "This example creates an inventory system simulation in SimPy using object-oriented concepts.\n",
    "\n",
    "## Dependencies\n",
    "\n",
    "This example is compatible with Python 2 environments through use of the `__future__` library function. Additionally, this example uses the `numpy`, `matplotlib.pyplot` and `simpy` libraries. SimPy is not a standard library included in most Python distributions. The `!pip install simpy` command below attempts to install it using the pip package management system."
   ]
  },
  {
   "cell_type": "code",
   "execution_count": 1,
   "id": "b88fa3c5",
   "metadata": {},
   "outputs": [
    {
     "name": "stdout",
     "output_type": "stream",
     "text": [
      "Requirement already satisfied: simpy in c:\\users\\pgrogan\\anaconda3\\lib\\site-packages (4.0.1)\n"
     ]
    }
   ],
   "source": [
    "# import the python3 behavior for importing, division, and printing in python2\n",
    "from __future__ import absolute_import, division, print_function\n",
    "\n",
    "# import the numpy package and refer to it as `np`\n",
    "import numpy as np\n",
    "\n",
    "# import the matplotlib pyplot package and refer to it as `plt`\n",
    "import matplotlib.pyplot as plt\n",
    "\n",
    "!pip install simpy\n",
    "\n",
    "# import the simpy package\n",
    "import simpy"
   ]
  },
  {
   "cell_type": "markdown",
   "id": "07411002",
   "metadata": {},
   "source": [
    "## Simulation Model"
   ]
  },
  {
   "cell_type": "code",
   "execution_count": 2,
   "id": "f8435597",
   "metadata": {},
   "outputs": [
    {
     "name": "stdout",
     "output_type": "stream",
     "text": [
      "Final balance: 34257.95\n"
     ]
    },
    {
     "data": {
      "image/png": "[encoded data removed]",
      "text/plain": [
       "<Figure size 432x288 with 1 Axes>"
      ]
     },
     "metadata": {
      "needs_background": "light"
     },
     "output_type": "display_data"
    }
   ],
   "source": [
    "class Warehouse(object):\n",
    "    def __init__(self, env, order_threshold, order_up_to):\n",
    "        self.env = env\n",
    "        self.order_threshold = order_threshold\n",
    "        self.order_up_to = order_up_to\n",
    "        \n",
    "        self.inventory = order_up_to\n",
    "        self.num_ordered = 0\n",
    "        self.balance = 0\n",
    "    \n",
    "    def run(self):\n",
    "        while True:\n",
    "            # wait for the next arrival\n",
    "            interarrival = np.random.exponential(1/5)\n",
    "            yield env.timeout(interarrival)\n",
    "            # subtract holding costs\n",
    "            self.balance -= 2.00*self.inventory*interarrival\n",
    "            # generate demand\n",
    "            demand = np.random.randint(1, 4+1) \n",
    "            # handle demands\n",
    "            if self.inventory > demand:\n",
    "                num_sold = demand\n",
    "            else:\n",
    "                num_sold = self.inventory\n",
    "            self.balance += 100.00*num_sold\n",
    "            self.inventory -= num_sold\n",
    "\n",
    "            # check for order\n",
    "            if self.inventory < self.order_threshold and self.num_ordered == 0:\n",
    "                quantity = self.order_up_to - self.inventory\n",
    "                self.env.process(self.handle_order(quantity))\n",
    "\n",
    "    def handle_order(self, quantity):\n",
    "        self.num_ordered = quantity\n",
    "        self.balance -= 50.00*quantity\n",
    "\n",
    "        # wait for the delivery to arrive\n",
    "        yield env.timeout(2)\n",
    "\n",
    "        self.inventory += quantity\n",
    "        self.num_ordered = 0\n",
    "\n",
    "def observe(env, warehouse, obs_time, obs_inventory):\n",
    "    while True:\n",
    "        # record the observation time and queue length\n",
    "        obs_time.append(env.now)\n",
    "        obs_inventory.append(warehouse.inventory)\n",
    "        # wait for the next 0.1 days\n",
    "        yield env.timeout(0.1)\n",
    "\n",
    "# create the simulation environment\n",
    "env = simpy.Environment()\n",
    "\n",
    "# create arrays to record data\n",
    "obs_time = []\n",
    "obs_inventory = []\n",
    "\n",
    "warehouse = Warehouse(env, 10, 30)\n",
    "\n",
    "# add the warehouse run process\n",
    "env.process(warehouse.run())\n",
    "# add the observation process\n",
    "env.process(observe(env, warehouse, obs_time, obs_inventory))\n",
    "# run the simulation for 100 days\n",
    "env.run(until=100)\n",
    "\n",
    "print('Final balance: {:.2f}'.format(warehouse.balance))\n",
    "\n",
    "# plot the inventory over time\n",
    "plt.figure()\n",
    "plt.step(obs_time, obs_inventory, where='post')\n",
    "plt.xlabel('Time (day)')\n",
    "plt.ylabel('Inventory Level')\n",
    "plt.show()"
   ]
  },
  {
   "cell_type": "markdown",
   "id": "0fb66254",
   "metadata": {},
   "source": [
    "## Monte Carlo Simulation\n",
    "\n",
    "To run a Monte Carlo simulation, all of the processes can be reused from the single simulation case."
   ]
  },
  {
   "cell_type": "code",
   "execution_count": 3,
   "id": "94bfc61d",
   "metadata": {},
   "outputs": [
    {
     "name": "stdout",
     "output_type": "stream",
     "text": [
      "Net revenue balance for N=10 runs with Q=10 and S=30:\n",
      "33168.09\n",
      "34697.14\n",
      "35403.40\n",
      "35246.47\n",
      "33849.07\n",
      "32932.41\n",
      "33929.40\n",
      "36137.91\n",
      "35661.28\n",
      "34766.71\n"
     ]
    }
   ],
   "source": [
    "NUM_RUNS = 10\n",
    "# threshold inventory level to trigger an order (Q)\n",
    "ORDER_THRESHOLD = 10\n",
    "# inventory level to order up to (S)\n",
    "ORDER_UP_TO = 30\n",
    "\n",
    "# array to store outputs\n",
    "BALANCE = []\n",
    "\n",
    "for i in range(NUM_RUNS):\n",
    "    # set the initial seed\n",
    "    np.random.seed(i)\n",
    "    \n",
    "    # create the simulation environment\n",
    "    env = simpy.Environment()\n",
    "\n",
    "    # create arrays to record data\n",
    "    obs_time = []\n",
    "    obs_inventory = []\n",
    "\n",
    "    warehouse = Warehouse(env, ORDER_THRESHOLD, ORDER_UP_TO)\n",
    "\n",
    "    # add the warehouse run process\n",
    "    env.process(warehouse.run())\n",
    "    # add the observation process\n",
    "    env.process(observe(env, warehouse, obs_time, obs_inventory))\n",
    "\n",
    "    # run the simulation\n",
    "    env.run(until=100)\n",
    "    \n",
    "    # record the final observed net revenue\n",
    "    BALANCE.append(warehouse.balance)\n",
    "\n",
    "# print final results to console\n",
    "print('Net revenue balance for N={:} runs with Q={:} and S={:}:'.format(\n",
    "        NUM_RUNS, ORDER_THRESHOLD, ORDER_UP_TO))\n",
    "print('\\n'.join('{:.2f}'.format(i) for i in BALANCE))\n",
    "\n",
    "# write results to CSV file\n",
    "import csv\n",
    "\n",
    "with open('inventory.csv', 'w') as output:\n",
    "    writer = csv.writer(output)\n",
    "    writer.writerow(['Run', 'Final Balance'])\n",
    "    for i, sample in enumerate(BALANCE):\n",
    "        writer.writerow([i+1, sample])"
   ]
  }
 ],
 "metadata": {
  "kernelspec": {
   "display_name": "Python 3",
   "language": "python",
   "name": "python3"
  },
  "language_info": {
   "codemirror_mode": {
    "name": "ipython",
    "version": 3
   },
   "file_extension": ".py",
   "mimetype": "text/x-python",
   "name": "python",
   "nbconvert_exporter": "python",
   "pygments_lexer": "ipython3",
   "version": "3.8.3"
  }
 },
 "nbformat": 4,
 "nbformat_minor": 5
}
