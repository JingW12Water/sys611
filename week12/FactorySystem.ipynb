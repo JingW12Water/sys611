{
 "cells": [
  {
   "cell_type": "markdown",
   "id": "f81f7785",
   "metadata": {},
   "source": [
    "# SYS 611: SimPy Factory System\n",
    "\n",
    "Paul T. Grogan <pgrogan@stevens.edu>\n",
    "\n",
    "This example creates a factory system simulation in SimPy.\n",
    "\n",
    "## Dependencies\n",
    "\n",
    "This example is compatible with Python 2 environments through use of the `__future__` library function. Additionally, this example uses the `numpy`, `matplotlib.pyplot` and `simpy` libraries. SimPy is not a standard library included in most Python distributions. The `!pip install simpy` command below attempts to install it using the pip package management system."
   ]
  },
  {
   "cell_type": "code",
   "execution_count": 1,
   "id": "130d538a",
   "metadata": {},
   "outputs": [
    {
     "name": "stdout",
     "output_type": "stream",
     "text": [
      "Requirement already satisfied: simpy in c:\\users\\pgrogan\\anaconda3\\lib\\site-packages (4.0.1)\n"
     ]
    }
   ],
   "source": [
    "# import the python3 behavior for importing, division, and printing in python2\n",
    "from __future__ import absolute_import, division, print_function\n",
    "\n",
    "# import the numpy package and refer to it as `np`\n",
    "import numpy as np\n",
    "\n",
    "# import the matplotlib pyplot package and refer to it as `plt`\n",
    "import matplotlib.pyplot as plt\n",
    "\n",
    "!pip install simpy\n",
    "\n",
    "# import the simpy package\n",
    "import simpy"
   ]
  },
  {
   "cell_type": "markdown",
   "id": "c83e0593",
   "metadata": {},
   "source": [
    "## Simulation Model"
   ]
  },
  {
   "cell_type": "code",
   "execution_count": 2,
   "id": "106d413a",
   "metadata": {},
   "outputs": [
    {
     "name": "stdout",
     "output_type": "stream",
     "text": [
      "Total cost: 437491.88\n"
     ]
    },
    {
     "data": {
      "image/png": "[encoded data removed]",
      "text/plain": [
       "<Figure size 432x288 with 1 Axes>"
      ]
     },
     "metadata": {
      "needs_background": "light"
     },
     "output_type": "display_data"
    },
    {
     "data": {
      "image/png": "[encoded data removed]",
      "text/plain": [
       "<Figure size 432x288 with 1 Axes>"
      ]
     },
     "metadata": {
      "needs_background": "light"
     },
     "output_type": "display_data"
    }
   ],
   "source": [
    "def factory_run(env, repairers, spares):\n",
    "    \"\"\" Process to run this simulation. \n",
    "        \n",
    "    Args:\n",
    "        env (simpy.Environment): the simulation environment\n",
    "        repairers (simpy.Resource): the repairers resource\n",
    "        spares (simpy.Container): the spares container\n",
    "    \"\"\"\n",
    "    # define global variables for inter-process communication\n",
    "    # note: this is a bad practice; however, is OK in this small script\n",
    "    global cost\n",
    "    cost = 0\n",
    "    \n",
    "    # launch the 50 machine processes\n",
    "    for i in range(50):\n",
    "        env.process(operate_machine(env, repairers, spares))\n",
    "    # update the daily costs each day\n",
    "    while True:\n",
    "        cost += 3.75*8*repairers.capacity + 30*spares.capacity\n",
    "        yield env.timeout(8.0)\n",
    "\n",
    "def operate_machine(env, repairers, spares):\n",
    "    \"\"\" Process to operate a machine.\n",
    "    \n",
    "    Args:\n",
    "        env (simpy.Environment): the simulation environment\n",
    "        repairers (simpy.Resource): the repairers resource\n",
    "        spares (simpy.Container): the spares container\n",
    "    \"\"\"\n",
    "    # define global variables for inter-process communication\n",
    "    # note: this is a bad practice; however, is OK in this small script\n",
    "    global cost\n",
    "    \n",
    "    while True:\n",
    "        # wait until the machine breaks\n",
    "        yield env.timeout(np.random.uniform(132,182))\n",
    "        time_broken = env.now\n",
    "        # launch the repair process\n",
    "        env.process(repair_machine(env, repairers, spares))\n",
    "        # wait for a spare to become available\n",
    "        yield spares.get(1)\n",
    "        time_replaced = env.now\n",
    "        # update the cost for being out of service\n",
    "        cost += 20*(time_replaced-time_broken)        \n",
    "\n",
    "def repair_machine(env, repairers, spares):\n",
    "    \"\"\" Process to repair a machine. \n",
    "\n",
    "    Args:\n",
    "        env (simpy.Environment): the simulation environment\n",
    "        repairers (simpy.Resource): the repairers resource\n",
    "        spares (simpy.Container): the spares container    \n",
    "    \"\"\"\n",
    "    with repairers.request() as request:\n",
    "        # wait for a repairer to become available\n",
    "        yield request\n",
    "        # perform the repair\n",
    "        yield env.timeout(np.random.uniform(4,10))\n",
    "        # put the machine back in the spares pool\n",
    "        yield spares.put(1)    \n",
    "\n",
    "def observe(env, spares):\n",
    "    \"\"\" Process to observe the factory during a simulation.\n",
    "    \n",
    "    Args:\n",
    "        env (simpy.Environment): the simulation environment\n",
    "        factory (Factory): the factory\n",
    "    \"\"\"\n",
    "    while True:\n",
    "        obs_time.append(env.now)\n",
    "        obs_cost.append(cost)\n",
    "        obs_spares.append(spares.level)\n",
    "        yield env.timeout(1.0)\n",
    "        \n",
    "# create the simulation environment\n",
    "env = simpy.Environment()\n",
    "\n",
    "# create arrays to record data\n",
    "obs_time = []\n",
    "obs_cost = []\n",
    "obs_spares = []\n",
    "\n",
    "# create the resources\n",
    "repairers = simpy.Resource(env, capacity=50)\n",
    "spares = simpy.Container(env, init=2, capacity=2)\n",
    "\n",
    "# add the factory run process\n",
    "env.process(factory_run(env, repairers, spares))\n",
    "# add the observation process\n",
    "env.process(observe(env, spares))\n",
    "# run simulation\n",
    "env.run(until=8*5*52)\n",
    "\n",
    "print('Total cost: {:.2f}'.format(cost))\n",
    "\n",
    "# plot the number of spares available\n",
    "plt.figure()\n",
    "plt.step(obs_time, obs_spares, where='post')\n",
    "plt.xlabel('Time (hour)')\n",
    "plt.ylabel('Number Spares Available')\n",
    "plt.show()\n",
    "\n",
    "# plot the total cost accumulation\n",
    "plt.figure()\n",
    "plt.step(obs_time, obs_cost, where='post')\n",
    "plt.xlabel('Time (hour)')\n",
    "plt.ylabel('Total Cost')\n",
    "plt.show()"
   ]
  },
  {
   "cell_type": "markdown",
   "id": "7dc9c6f6",
   "metadata": {},
   "source": [
    "## Monte Carlo Simulation\n",
    "\n",
    "To run a Monte Carlo simulation, all of the processes can be reused from the single simulation case."
   ]
  },
  {
   "cell_type": "code",
   "execution_count": 3,
   "id": "f41ad668",
   "metadata": {},
   "outputs": [
    {
     "name": "stdout",
     "output_type": "stream",
     "text": [
      "Factory costs for N=10 runs with R=50 repairers and S=2 spares:\n",
      "439607.09\n",
      "438908.93\n",
      "440380.53\n",
      "442121.18\n",
      "442607.92\n",
      "441996.90\n",
      "439545.14\n",
      "439061.08\n",
      "439516.07\n",
      "442552.17\n"
     ]
    }
   ],
   "source": [
    "NUM_RUNS = 10\n",
    "# number of spares to purchase (S)\n",
    "NUM_SPARES = 2\n",
    "# number of repairers to hire (R)\n",
    "NUM_REPAIRERS = 50\n",
    "\n",
    "# array to store outputs\n",
    "COST = []\n",
    "\n",
    "for i in range(NUM_RUNS):\n",
    "    # set the random number seed\n",
    "    np.random.seed(i)\n",
    "    \n",
    "    # create the simpy environment\n",
    "    env = simpy.Environment()\n",
    "    \n",
    "    # create arrays to record data\n",
    "    obs_time = []\n",
    "    obs_cost = []\n",
    "    obs_spares = []\n",
    "    \n",
    "    # create the resources\n",
    "    repairers = simpy.Resource(env, capacity=NUM_REPAIRERS) \n",
    "    spares = simpy.Container(env, init=NUM_SPARES, capacity=NUM_SPARES)\n",
    "    \n",
    "    # add the factory run process\n",
    "    env.process(factory_run(env, repairers, spares))\n",
    "    \n",
    "    # add the observation process\n",
    "    env.process(observe(env, spares))\n",
    "    \n",
    "    # run simulation\n",
    "    env.run(until=5*8*52)\n",
    "    \n",
    "    # record the final cost\n",
    "    COST.append(cost)\n",
    "\n",
    "\n",
    "# print final results to console\n",
    "print('Factory costs for N={:} runs with R={:} repairers and S={:} spares:'.format(\n",
    "        NUM_RUNS, NUM_REPAIRERS, NUM_SPARES))\n",
    "print('\\n'.join('{:.2f}'.format(i) for i in COST))\n",
    "\n",
    "# write results to CSV file\n",
    "import csv\n",
    "\n",
    "with open('factory.csv', 'w') as output:\n",
    "    writer = csv.writer(output)\n",
    "    writer.writerow(['Run', 'Final Cost'])\n",
    "    for i, sample in enumerate(COST):\n",
    "        writer.writerow([i+1, sample])"
   ]
  }
 ],
 "metadata": {
  "kernelspec": {
   "display_name": "Python 3",
   "language": "python",
   "name": "python3"
  },
  "language_info": {
   "codemirror_mode": {
    "name": "ipython",
    "version": 3
   },
   "file_extension": ".py",
   "mimetype": "text/x-python",
   "name": "python",
   "nbconvert_exporter": "python",
   "pygments_lexer": "ipython3",
   "version": "3.8.3"
  }
 },
 "nbformat": 4,
 "nbformat_minor": 5
}
