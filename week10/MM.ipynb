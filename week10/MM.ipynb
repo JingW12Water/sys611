{
 "cells": [
  {
   "cell_type": "markdown",
   "id": "virtual-lawyer",
   "metadata": {},
   "source": [
    "# SYS 611: M&M Counting Model\n",
    "\n",
    "Paul T. Grogan <pgrogan@stevens.edu>\n",
    "\n",
    "This example estimates the number of M&M candies in a jar using Monte Carlo simulation.\n",
    "\n",
    "## Dependencies\n",
    "\n",
    "This example is compatible with Python 2 environments through use of the `__future__` library function. Additionally, this example uses the `numpy`, `scipy.stats`, and `matplotlib.pyplot` libraries."
   ]
  },
  {
   "cell_type": "code",
   "execution_count": 1,
   "id": "bacterial-disclaimer",
   "metadata": {},
   "outputs": [],
   "source": [
    "# import the python3 behavior for importing, division, and printing in python2\n",
    "from __future__ import absolute_import, division, print_function\n",
    "\n",
    "# import the numpy package and refer to it as `np`\n",
    "import numpy as np\n",
    "\n",
    "# import the matplotlib pyplot package and refer to it as `plt`\n",
    "import matplotlib.pyplot as plt\n",
    "\n",
    "# import the scipy stats package and refer to it as `stats`\n",
    "import scipy.stats as stats"
   ]
  },
  {
   "cell_type": "markdown",
   "id": "caroline-canada",
   "metadata": {},
   "source": [
    "## Estimator\n",
    "\n",
    "Use process generators for unknown quantities (jar effective volume, packing factor, candy diameter, and candy thickness) and create a point estimate."
   ]
  },
  {
   "cell_type": "code",
   "execution_count": 2,
   "id": "improved-commander",
   "metadata": {},
   "outputs": [],
   "source": [
    "def generate_count(size=1):\n",
    "    # sample the jar volume\n",
    "    V = np.random.triangular(1890*.98, 1890, 1890*1.02, size)\n",
    "    # sample the packing factor\n",
    "    mu = np.random.triangular(0.55*0.8, 0.55, 0.55*1.2, size)\n",
    "    # sample the average M&M diameter\n",
    "    d = np.random.triangular(1.4*0.9, 1.4, 1.4*1.1, size)\n",
    "    # sample the average M&M thickness\n",
    "    t = np.random.triangular(0.6*0.9, 0.6, 0.6*1.1, size)\n",
    "    # sample and return the derived number of M&Ms in the jar\n",
    "    N = 6*V*mu/(np.pi*d**2*t)\n",
    "    return N.astype(int)"
   ]
  },
  {
   "cell_type": "markdown",
   "id": "aerial-swing",
   "metadata": {},
   "source": [
    "## Estimating the M&M Count\n",
    "Construct a Monte Carlo simulator to generate a large number of estimates."
   ]
  },
  {
   "cell_type": "code",
   "execution_count": 3,
   "id": "structural-buffer",
   "metadata": {},
   "outputs": [
    {
     "name": "stdout",
     "output_type": "stream",
     "text": [
      "N_bar = 1698\n"
     ]
    },
    {
     "data": {
      "image/png": "[encoded data removed]",
      "text/plain": [
       "<Figure size 432x288 with 1 Axes>"
      ]
     },
     "metadata": {
      "needs_background": "light"
     },
     "output_type": "display_data"
    }
   ],
   "source": [
    "NUM_RUNS = 10000\n",
    "\n",
    "# generate NUM_RUNS samples\n",
    "N = generate_count(NUM_RUNS)\n",
    "\n",
    "# create a histogram to visualize results\n",
    "plt.figure()\n",
    "plt.hist(N, color='r')\n",
    "plt.xlabel('Number of M&Ms in Jar')\n",
    "plt.ylabel('Frequency')\n",
    "\n",
    "# print descriptive statistics\n",
    "print('N_bar = {:.0f}'.format(np.mean(N)))"
   ]
  },
  {
   "cell_type": "markdown",
   "id": "norwegian-generator",
   "metadata": {},
   "source": [
    "## Visualizing the Probability of Winning\n",
    "\n",
    "Construct a Monte Carlo simulator using a distribution of opponent's guesses."
   ]
  },
  {
   "cell_type": "code",
   "execution_count": 7,
   "id": "perceived-breakdown",
   "metadata": {},
   "outputs": [
    {
     "data": {
      "image/png": "[encoded data removed]",
      "text/plain": [
       "<Figure size 432x288 with 1 Axes>"
      ]
     },
     "metadata": {
      "needs_background": "light"
     },
     "output_type": "display_data"
    }
   ],
   "source": [
    "NUM_OPPONENTS = 50\n",
    "\n",
    "# define the space of possible guesses\n",
    "x = np.arange(0,2500,5)\n",
    "\n",
    "# define the outcomes (number of wins)\n",
    "w = np.zeros(np.size(x))\n",
    "\n",
    "# iterate over each run\n",
    "for run in range(NUM_RUNS):\n",
    "    # set the random number generator seed\n",
    "    np.random.seed(run)\n",
    "    # generate a true number of M&Ms\n",
    "    N_star = generate_count()\n",
    "    # sample the opponents' guesses from a triangular distribution\n",
    "    y = np.random.triangular(500, 1600, 2500, NUM_OPPONENTS)\n",
    "    \n",
    "    if np.sum(y[y<=N_star]) > 0:\n",
    "        # if at least one opponent has a winning choice\n",
    "        # a winning alternative must be <= the true number of M&Ms\n",
    "        # and >= the best opponent's guess\n",
    "        winners = np.logical_and(x<=N_star, x>=np.max(y[y<=N_star]))\n",
    "    else:\n",
    "        # otherwise a winning alternative must be <= the true number of M&Ms\n",
    "        winners = x<=N_star\n",
    "    \n",
    "    # if any alternative is a winner, record the outcomes\n",
    "    if np.any(winners):\n",
    "        w[winners] += 1\n",
    "\n",
    "# plot a distribution of the probability of an alternative winning\n",
    "plt.figure()\n",
    "plt.plot(x, w/NUM_RUNS, '-r')\n",
    "plt.xlabel('Guess of Number of M&Ms in Jar')\n",
    "plt.ylabel('Probability of Winning')\n",
    "plt.show()"
   ]
  }
 ],
 "metadata": {
  "kernelspec": {
   "display_name": "Python 3",
   "language": "python",
   "name": "python3"
  },
  "language_info": {
   "codemirror_mode": {
    "name": "ipython",
    "version": 3
   },
   "file_extension": ".py",
   "mimetype": "text/x-python",
   "name": "python",
   "nbconvert_exporter": "python",
   "pygments_lexer": "ipython3",
   "version": "3.8.3"
  }
 },
 "nbformat": 4,
 "nbformat_minor": 5
}
