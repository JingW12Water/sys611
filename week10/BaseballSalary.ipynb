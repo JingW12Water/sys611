{
 "cells": [
  {
   "cell_type": "markdown",
   "id": "utility-halloween",
   "metadata": {},
   "source": [
    "# SYS 611: Baseball Salary Model\n",
    "\n",
    "Paul T. Grogan <pgrogan@stevens.edu>\n",
    "\n",
    "This example performs maximum likelihood estimation to model the distribution of professional baseball player salaries.\n",
    "\n",
    "## Dependencies\n",
    "\n",
    "This example is compatible with Python 2 environments through use of the `__future__` library function. Additionally, this example uses the `numpy`, `pandas`, `scipy`, and `matplotlib.pyplot` libraries."
   ]
  },
  {
   "cell_type": "code",
   "execution_count": 1,
   "id": "gothic-rental",
   "metadata": {},
   "outputs": [],
   "source": [
    "# import the python3 behavior for importing, division, and printing in python2\n",
    "from __future__ import absolute_import, division, print_function\n",
    "\n",
    "# import the numpy package and refer to it as `np`\n",
    "import numpy as np\n",
    "\n",
    "# import the pandas package and refer to it as `pd`\n",
    "import pandas as pd\n",
    "\n",
    "# import the stats and optimize libraries from the scipy package\n",
    "from scipy import stats, optimize\n",
    "\n",
    "# import the matplotlib.pyplot package and refer to it as `plt`\n",
    "import matplotlib.pyplot as plt"
   ]
  },
  {
   "cell_type": "markdown",
   "id": "delayed-alcohol",
   "metadata": {},
   "source": [
    "## Load Data\n",
    "\n",
    "Load the data (extracted from [Sean Lahman's Baseball Database](http://www.seanlahman.com/baseball-archive/statistics/)) from the CSV file. It contains a table of 853 records of professional baseball salaries from the 2016 season."
   ]
  },
  {
   "cell_type": "code",
   "execution_count": 2,
   "id": "chemical-husband",
   "metadata": {},
   "outputs": [
    {
     "data": {
      "text/html": [
       "<div>\n",
       "<style scoped>\n",
       "    .dataframe tbody tr th:only-of-type {\n",
       "        vertical-align: middle;\n",
       "    }\n",
       "\n",
       "    .dataframe tbody tr th {\n",
       "        vertical-align: top;\n",
       "    }\n",
       "\n",
       "    .dataframe thead th {\n",
       "        text-align: right;\n",
       "    }\n",
       "</style>\n",
       "<table border=\"1\" class=\"dataframe\">\n",
       "  <thead>\n",
       "    <tr style=\"text-align: right;\">\n",
       "      <th></th>\n",
       "      <th>yearID</th>\n",
       "      <th>teamID</th>\n",
       "      <th>lgID</th>\n",
       "      <th>playerID</th>\n",
       "      <th>salary</th>\n",
       "    </tr>\n",
       "  </thead>\n",
       "  <tbody>\n",
       "    <tr>\n",
       "      <th>0</th>\n",
       "      <td>2016</td>\n",
       "      <td>ARI</td>\n",
       "      <td>NL</td>\n",
       "      <td>ahmedni01</td>\n",
       "      <td>521600</td>\n",
       "    </tr>\n",
       "    <tr>\n",
       "      <th>1</th>\n",
       "      <td>2016</td>\n",
       "      <td>ARI</td>\n",
       "      <td>NL</td>\n",
       "      <td>barreja01</td>\n",
       "      <td>507500</td>\n",
       "    </tr>\n",
       "    <tr>\n",
       "      <th>2</th>\n",
       "      <td>2016</td>\n",
       "      <td>ARI</td>\n",
       "      <td>NL</td>\n",
       "      <td>brachsi01</td>\n",
       "      <td>509300</td>\n",
       "    </tr>\n",
       "    <tr>\n",
       "      <th>3</th>\n",
       "      <td>2016</td>\n",
       "      <td>ARI</td>\n",
       "      <td>NL</td>\n",
       "      <td>britoso01</td>\n",
       "      <td>508500</td>\n",
       "    </tr>\n",
       "    <tr>\n",
       "      <th>4</th>\n",
       "      <td>2016</td>\n",
       "      <td>ARI</td>\n",
       "      <td>NL</td>\n",
       "      <td>castiwe01</td>\n",
       "      <td>3700000</td>\n",
       "    </tr>\n",
       "    <tr>\n",
       "      <th>...</th>\n",
       "      <td>...</td>\n",
       "      <td>...</td>\n",
       "      <td>...</td>\n",
       "      <td>...</td>\n",
       "      <td>...</td>\n",
       "    </tr>\n",
       "    <tr>\n",
       "      <th>848</th>\n",
       "      <td>2016</td>\n",
       "      <td>WAS</td>\n",
       "      <td>NL</td>\n",
       "      <td>strasst01</td>\n",
       "      <td>10400000</td>\n",
       "    </tr>\n",
       "    <tr>\n",
       "      <th>849</th>\n",
       "      <td>2016</td>\n",
       "      <td>WAS</td>\n",
       "      <td>NL</td>\n",
       "      <td>taylomi02</td>\n",
       "      <td>524000</td>\n",
       "    </tr>\n",
       "    <tr>\n",
       "      <th>850</th>\n",
       "      <td>2016</td>\n",
       "      <td>WAS</td>\n",
       "      <td>NL</td>\n",
       "      <td>treinbl01</td>\n",
       "      <td>524900</td>\n",
       "    </tr>\n",
       "    <tr>\n",
       "      <th>851</th>\n",
       "      <td>2016</td>\n",
       "      <td>WAS</td>\n",
       "      <td>NL</td>\n",
       "      <td>werthja01</td>\n",
       "      <td>21733615</td>\n",
       "    </tr>\n",
       "    <tr>\n",
       "      <th>852</th>\n",
       "      <td>2016</td>\n",
       "      <td>WAS</td>\n",
       "      <td>NL</td>\n",
       "      <td>zimmery01</td>\n",
       "      <td>14000000</td>\n",
       "    </tr>\n",
       "  </tbody>\n",
       "</table>\n",
       "<p>853 rows × 5 columns</p>\n",
       "</div>"
      ],
      "text/plain": [
       "     yearID teamID lgID   playerID    salary\n",
       "0      2016    ARI   NL  ahmedni01    521600\n",
       "1      2016    ARI   NL  barreja01    507500\n",
       "2      2016    ARI   NL  brachsi01    509300\n",
       "3      2016    ARI   NL  britoso01    508500\n",
       "4      2016    ARI   NL  castiwe01   3700000\n",
       "..      ...    ...  ...        ...       ...\n",
       "848    2016    WAS   NL  strasst01  10400000\n",
       "849    2016    WAS   NL  taylomi02    524000\n",
       "850    2016    WAS   NL  treinbl01    524900\n",
       "851    2016    WAS   NL  werthja01  21733615\n",
       "852    2016    WAS   NL  zimmery01  14000000\n",
       "\n",
       "[853 rows x 5 columns]"
      ]
     },
     "metadata": {},
     "output_type": "display_data"
    }
   ],
   "source": [
    "df = pd.read_csv('salaries.csv')\n",
    "display(df)"
   ]
  },
  {
   "cell_type": "markdown",
   "id": "forward-token",
   "metadata": {},
   "source": [
    "Visualize the empirical salary distribution using a histogram and cumulative relative frequency plot."
   ]
  },
  {
   "cell_type": "code",
   "execution_count": 3,
   "id": "brave-parallel",
   "metadata": {},
   "outputs": [
    {
     "data": {
      "image/png": "[encoded data removed]",
      "text/plain": [
       "<Figure size 432x288 with 1 Axes>"
      ]
     },
     "metadata": {
      "needs_background": "light"
     },
     "output_type": "display_data"
    },
    {
     "data": {
      "image/png": "[encoded data removed]",
      "text/plain": [
       "<Figure size 432x288 with 1 Axes>"
      ]
     },
     "metadata": {
      "needs_background": "light"
     },
     "output_type": "display_data"
    }
   ],
   "source": [
    "# observations of salaries (in $1k)\n",
    "obs = df['salary']/1000\n",
    "\n",
    "# plot histogram\n",
    "plt.figure()\n",
    "plt.hist(df['salary']/1000, color='r')\n",
    "plt.xlabel('Salary ($k)')\n",
    "plt.ylabel('Frequency Observed')\n",
    "plt.show()\n",
    "\n",
    "# compute cumulative relative frequency\n",
    "x = np.linspace(0, np.max(df['salary']/1000), 1000)\n",
    "F_obs = np.array([np.sum(df['salary']/1000 < i)/len(df.index) for i in x])\n",
    "\n",
    "# plot cumulative relative frequency\n",
    "plt.figure()\n",
    "plt.step(x, F_obs, '-r', where='post')\n",
    "plt.xlabel('Salary ($k)')\n",
    "plt.ylabel('Cumulative Relative Frequency Observed')\n",
    "plt.show()"
   ]
  },
  {
   "cell_type": "markdown",
   "id": "progressive-thumb",
   "metadata": {},
   "source": [
    "## Maximum Likelihood Estimation\n",
    "\n",
    "Maximum likelihood estimation (MLE) is a technique to determine model parameters from observed data. This section will consider three models for the distribution of baseball salaries:\n",
    " 1. Normal Distribution\n",
    " 2. Lognormal Distribution\n",
    " 3. Pareto Distribution\n",
    "\n",
    "### Normal Distribution\n",
    "\n",
    "The normal distribution is characterized by two parameters: mean ($\\mu$) and standard deviation ($\\sigma$)."
   ]
  },
  {
   "cell_type": "code",
   "execution_count": 4,
   "id": "least-marriage",
   "metadata": {},
   "outputs": [
    {
     "name": "stdout",
     "output_type": "stream",
     "text": [
      "mu_0: 4396.41\n",
      "sigma_0: 5900.04\n",
      "LL_0: -8616.2\n",
      "mu: 4396.41\n",
      "sigma: 5896.58\n",
      "LL: -8616.2\n"
     ]
    },
    {
     "data": {
      "image/png": "[encoded data removed]",
      "text/plain": [
       "<Figure size 432x288 with 1 Axes>"
      ]
     },
     "metadata": {
      "needs_background": "light"
     },
     "output_type": "display_data"
    }
   ],
   "source": [
    "def minus_log_likelihood_normal(params, x):\n",
    "    # note: scipy stats uses mu as the first argument and\n",
    "    # sigma as the second argument for the normal distribution\n",
    "    return np.sum(-np.log(stats.norm.pdf(x, params[0], params[1])))\n",
    "\n",
    "# initial guesses for model parameters\n",
    "mu_0 = np.mean(obs)\n",
    "sigma_0 = np.std(obs, ddof=1)\n",
    "\n",
    "# print initial log likelihood\n",
    "print('mu_0: {:.2f}'.format(mu_0))\n",
    "print('sigma_0: {:.2f}'.format(sigma_0))\n",
    "print('LL_0: {:.1f}'.format(-minus_log_likelihood_normal((mu_0, sigma_0), obs)))\n",
    "\n",
    "# minimize minus log likelihood\n",
    "results = optimize.minimize(minus_log_likelihood_normal, x0=(mu_0, sigma_0), args=obs, method='Nelder-Mead')\n",
    "\n",
    "# get optimized values from results\n",
    "mu = results.x[0]\n",
    "sigma = results.x[1]\n",
    "LL = -results.fun\n",
    "\n",
    "print('mu: {:.2f}'.format(mu))\n",
    "print('sigma: {:.2f}'.format(sigma))\n",
    "print('LL: {:.1f}'.format(LL))\n",
    "\n",
    "# plot cumulative relative frequency\n",
    "plt.figure()\n",
    "plt.step(x, F_obs, '-r', where='post', label='Observed')\n",
    "plt.step(x, stats.norm.cdf(x, mu, sigma), '--k', label='Normal($\\mu$={:.1f}, $\\sigma$={:.1f})'.format(mu, sigma))\n",
    "plt.xlabel('Salary ($k)')\n",
    "plt.ylabel('Cumulative Relative Frequency Observed')\n",
    "plt.legend(loc='best')\n",
    "plt.show()"
   ]
  },
  {
   "cell_type": "markdown",
   "id": "american-treasury",
   "metadata": {},
   "source": [
    "## Lognormal Distribution\n",
    "\n",
    "The lognormal distribution is characterized by two parameters: log mean ($\\mu$) and log standard deviation ($\\sigma$)."
   ]
  },
  {
   "cell_type": "code",
   "execution_count": 5,
   "id": "graphic-powell",
   "metadata": {},
   "outputs": [
    {
     "name": "stdout",
     "output_type": "stream",
     "text": [
      "mu_0: 7.56\n",
      "sigma_0: 1.30\n",
      "LL_0: -7879.6\n",
      "mu: 7.56\n",
      "sigma: 1.30\n",
      "LL: -7879.6\n"
     ]
    },
    {
     "data": {
      "image/png": "[encoded data removed]",
      "text/plain": [
       "<Figure size 432x288 with 1 Axes>"
      ]
     },
     "metadata": {
      "needs_background": "light"
     },
     "output_type": "display_data"
    }
   ],
   "source": [
    "def minus_log_likelihood_lognormal(params, x):\n",
    "    # note: scipy stats uses sigma as the first argument\n",
    "    # and exp(mu) as the scale parameter for the lognormal distribution\n",
    "    return np.sum(-np.log(stats.lognorm.pdf(x, params[1], scale=np.exp(params[0]))))\n",
    "\n",
    "# initial guesses for model parameters\n",
    "mu_0 = np.mean(np.log(obs))\n",
    "sigma_0 = np.std(np.log(obs), ddof=1)\n",
    "\n",
    "# print initial log likelihood\n",
    "print('mu_0: {:.2f}'.format(mu_0))\n",
    "print('sigma_0: {:.2f}'.format(sigma_0))\n",
    "print('LL_0: {:.1f}'.format(-minus_log_likelihood_lognormal((mu_0, sigma_0), obs)))\n",
    "\n",
    "# minimize minus log likelihood\n",
    "results = optimize.minimize(minus_log_likelihood_lognormal, x0=(mu_0, sigma_0), args=obs, method='Nelder-Mead')\n",
    "\n",
    "# get optimized values from results\n",
    "mu = results.x[0]\n",
    "sigma = results.x[1]\n",
    "LL = -results.fun\n",
    "\n",
    "print('mu: {:.2f}'.format(mu))\n",
    "print('sigma: {:.2f}'.format(sigma))\n",
    "print('LL: {:.1f}'.format(LL))\n",
    "\n",
    "# plot cumulative relative frequency\n",
    "plt.figure()\n",
    "plt.step(x, F_obs, '-r', where='post', label='Observed')\n",
    "plt.step(x, stats.lognorm.cdf(x, sigma, scale=np.exp(mu)), '--k', label='Lognormal($\\mu$={:.1f}, $\\sigma$={:.1f})'.format(mu, sigma))\n",
    "plt.xlabel('Salary ($k)')\n",
    "plt.ylabel('Cumulative Relative Frequency Observed')\n",
    "plt.legend(loc='best')\n",
    "plt.show()"
   ]
  },
  {
   "cell_type": "markdown",
   "id": "regulation-thong",
   "metadata": {},
   "source": [
    "## Pareto Distribution\n",
    "\n",
    "The lognormal distribution is characterized by two parameters: shape ($\\alpha$) and scale."
   ]
  },
  {
   "cell_type": "code",
   "execution_count": 6,
   "id": "political-eugene",
   "metadata": {},
   "outputs": [
    {
     "name": "stdout",
     "output_type": "stream",
     "text": [
      "alpha_0: 1.000\n",
      "scale_0: 507.50\n",
      "LL_0: -7582.3\n",
      "alpha: 0.752\n",
      "scale: 507.50\n",
      "LL: -7544.1\n"
     ]
    },
    {
     "data": {
      "image/png": "[encoded data removed]",
      "text/plain": [
       "<Figure size 432x288 with 1 Axes>"
      ]
     },
     "metadata": {
      "needs_background": "light"
     },
     "output_type": "display_data"
    }
   ],
   "source": [
    "def minus_log_likelihood_pareto(params, x):\n",
    "    # note: scipy stats uses shape (alpha) as the first argument\n",
    "    # and scale as a keyword parameter for the Pareto distribution\n",
    "    if np.any(x < params[1]):\n",
    "        # if any observations fall below the scale parameter, return infinity\n",
    "        return np.inf\n",
    "    return np.sum(-np.log(stats.pareto.pdf(x, params[0], scale=params[1])))\n",
    "\n",
    "# initial guesses for model \n",
    "alpha_0 = 1\n",
    "scale_0 = np.min(obs)\n",
    "\n",
    "# print initial log likelihood\n",
    "print('alpha_0: {:.3f}'.format(alpha_0))\n",
    "print('scale_0: {:.2f}'.format(scale_0))\n",
    "print('LL_0: {:.1f}'.format(-minus_log_likelihood_pareto((alpha_0, scale_0), obs)))\n",
    "\n",
    "# minimize minus log likelihood\n",
    "results = optimize.minimize(minus_log_likelihood_pareto, x0=(alpha_0, scale_0), args=obs, method='Nelder-Mead')\n",
    "\n",
    "# get optimized values from results\n",
    "alpha = results.x[0]\n",
    "scale = results.x[1]\n",
    "LL = -results.fun\n",
    "\n",
    "print('alpha: {:.3f}'.format(alpha))\n",
    "print('scale: {:.2f}'.format(scale))\n",
    "print('LL: {:.1f}'.format(LL))\n",
    "\n",
    "# plot cumulative relative frequency\n",
    "plt.figure()\n",
    "plt.step(x, F_obs, '-r', where='post', label='Observed')\n",
    "plt.step(x, stats.pareto.cdf(x, alpha, scale=scale), '--k', label=r'Pareto($\\alpha$={:.3f}, scale={:.1f})'.format(alpha, scale))\n",
    "plt.xlabel('Salary ($k)')\n",
    "plt.ylabel('Cumulative Relative Frequency Observed')\n",
    "plt.legend(loc='best')\n",
    "plt.show()"
   ]
  }
 ],
 "metadata": {
  "kernelspec": {
   "display_name": "Python 3",
   "language": "python",
   "name": "python3"
  },
  "language_info": {
   "codemirror_mode": {
    "name": "ipython",
    "version": 3
   },
   "file_extension": ".py",
   "mimetype": "text/x-python",
   "name": "python",
   "nbconvert_exporter": "python",
   "pygments_lexer": "ipython3",
   "version": "3.8.3"
  }
 },
 "nbformat": 4,
 "nbformat_minor": 5
}
